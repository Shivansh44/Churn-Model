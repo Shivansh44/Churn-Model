{
  "nbformat": 4,
  "nbformat_minor": 0,
  "metadata": {
    "kernelspec": {
      "display_name": "Python 3",
      "language": "python",
      "name": "python3"
    },
    "language_info": {
      "codemirror_mode": {
        "name": "ipython",
        "version": 3
      },
      "file_extension": ".py",
      "mimetype": "text/x-python",
      "name": "python",
      "nbconvert_exporter": "python",
      "pygments_lexer": "ipython3",
      "version": "3.7.6"
    },
    "papermill": {
      "duration": 46.918351,
      "end_time": "2020-11-03T12:22:50.944177",
      "environment_variables": {},
      "exception": null,
      "input_path": "__notebook__.ipynb",
      "output_path": "__notebook__.ipynb",
      "parameters": {},
      "start_time": "2020-11-03T12:22:04.025826",
      "version": "2.1.0"
    },
    "colab": {
      "name": "churn-modelling.ipynb",
      "provenance": []
    }
  },
  "cells": [
    {
      "cell_type": "code",
      "metadata": {
        "_cell_guid": "b1076dfc-b9ad-4769-8c92-a6c4dae69d19",
        "_uuid": "8f2839f25d086af736a60e9eeb907d3b93b6e0e5",
        "execution": {
          "iopub.execute_input": "2020-11-03T12:22:08.695125Z",
          "iopub.status.busy": "2020-11-03T12:22:08.694203Z",
          "iopub.status.idle": "2020-11-03T12:22:08.699169Z",
          "shell.execute_reply": "2020-11-03T12:22:08.699986Z"
        },
        "papermill": {
          "duration": 0.039499,
          "end_time": "2020-11-03T12:22:08.700262",
          "exception": false,
          "start_time": "2020-11-03T12:22:08.660763",
          "status": "completed"
        },
        "tags": [],
        "id": "EnVnRg7ZyAg3"
      },
      "source": [
        "# This Python 3 environment comes with many helpful analytics libraries installed\n",
        "# It is defined by the kaggle/python Docker image: https://github.com/kaggle/docker-python\n",
        "# For example, here's several helpful packages to load\n",
        "\n",
        "import numpy as np # linear algebra\n",
        "import pandas as pd # data processing, CSV file I/O (e.g. pd.read_csv)\n",
        "\n",
        "# Input data files are available in the read-only \"../input/\" directory\n",
        "# For example, running this (by clicking run or pressing Shift+Enter) will list all files under the input directory\n",
        "\n",
        "import os\n",
        "for dirname, _, filenames in os.walk('/kaggle/input'):\n",
        "    for filename in filenames:\n",
        "        print(os.path.join(dirname, filename))\n",
        "\n",
        "# You can write up to 20GB to the current directory (/kaggle/working/) that gets preserved as output when you create a version using \"Save & Run All\" \n",
        "# You can also write temporary files to /kaggle/temp/, but they won't be saved outside of the current session"
      ],
      "execution_count": null,
      "outputs": []
    },
    {
      "cell_type": "code",
      "metadata": {
        "_cell_guid": "79c7e3d0-c299-4dcb-8224-4455121ee9b0",
        "_uuid": "d629ff2d2480ee46fbb7e2d37f6b5fab8052498a",
        "execution": {
          "iopub.execute_input": "2020-11-03T12:22:08.757391Z",
          "iopub.status.busy": "2020-11-03T12:22:08.756502Z",
          "iopub.status.idle": "2020-11-03T12:22:14.446853Z",
          "shell.execute_reply": "2020-11-03T12:22:14.446189Z"
        },
        "papermill": {
          "duration": 5.719438,
          "end_time": "2020-11-03T12:22:14.446973",
          "exception": false,
          "start_time": "2020-11-03T12:22:08.727535",
          "status": "completed"
        },
        "tags": [],
        "id": "zqutGvSqyAg6",
        "colab": {
          "base_uri": "https://localhost:8080/",
          "height": 35
        },
        "outputId": "3e26705c-b594-48a0-aba8-7c45292a7f07"
      },
      "source": [
        "import numpy as np\n",
        "import pandas as pd\n",
        "import tensorflow as tf\n",
        "tf.__version__"
      ],
      "execution_count": null,
      "outputs": [
        {
          "output_type": "execute_result",
          "data": {
            "application/vnd.google.colaboratory.intrinsic+json": {
              "type": "string"
            },
            "text/plain": [
              "'2.6.0'"
            ]
          },
          "metadata": {},
          "execution_count": 2
        }
      ]
    },
    {
      "cell_type": "code",
      "metadata": {
        "execution": {
          "iopub.execute_input": "2020-11-03T12:22:14.503943Z",
          "iopub.status.busy": "2020-11-03T12:22:14.503174Z",
          "iopub.status.idle": "2020-11-03T12:22:14.590688Z",
          "shell.execute_reply": "2020-11-03T12:22:14.591297Z"
        },
        "papermill": {
          "duration": 0.119638,
          "end_time": "2020-11-03T12:22:14.591459",
          "exception": false,
          "start_time": "2020-11-03T12:22:14.471821",
          "status": "completed"
        },
        "tags": [],
        "id": "_7s22dXqyAg7",
        "colab": {
          "base_uri": "https://localhost:8080/",
          "height": 203
        },
        "outputId": "92973d84-4ce8-4ccc-ce15-8956051023d8"
      },
      "source": [
        "dataset = pd.read_csv('/content/Churn_Modelling.csv')\n",
        "dataset.head()"
      ],
      "execution_count": null,
      "outputs": [
        {
          "output_type": "execute_result",
          "data": {
            "text/html": [
              "<div>\n",
              "<style scoped>\n",
              "    .dataframe tbody tr th:only-of-type {\n",
              "        vertical-align: middle;\n",
              "    }\n",
              "\n",
              "    .dataframe tbody tr th {\n",
              "        vertical-align: top;\n",
              "    }\n",
              "\n",
              "    .dataframe thead th {\n",
              "        text-align: right;\n",
              "    }\n",
              "</style>\n",
              "<table border=\"1\" class=\"dataframe\">\n",
              "  <thead>\n",
              "    <tr style=\"text-align: right;\">\n",
              "      <th></th>\n",
              "      <th>RowNumber</th>\n",
              "      <th>CustomerId</th>\n",
              "      <th>Surname</th>\n",
              "      <th>CreditScore</th>\n",
              "      <th>Geography</th>\n",
              "      <th>Gender</th>\n",
              "      <th>Age</th>\n",
              "      <th>Tenure</th>\n",
              "      <th>Balance</th>\n",
              "      <th>NumOfProducts</th>\n",
              "      <th>HasCrCard</th>\n",
              "      <th>IsActiveMember</th>\n",
              "      <th>EstimatedSalary</th>\n",
              "      <th>Exited</th>\n",
              "    </tr>\n",
              "  </thead>\n",
              "  <tbody>\n",
              "    <tr>\n",
              "      <th>0</th>\n",
              "      <td>1</td>\n",
              "      <td>15634602</td>\n",
              "      <td>Hargrave</td>\n",
              "      <td>619</td>\n",
              "      <td>France</td>\n",
              "      <td>Female</td>\n",
              "      <td>42</td>\n",
              "      <td>2</td>\n",
              "      <td>0.00</td>\n",
              "      <td>1</td>\n",
              "      <td>1</td>\n",
              "      <td>1</td>\n",
              "      <td>101348.88</td>\n",
              "      <td>1</td>\n",
              "    </tr>\n",
              "    <tr>\n",
              "      <th>1</th>\n",
              "      <td>2</td>\n",
              "      <td>15647311</td>\n",
              "      <td>Hill</td>\n",
              "      <td>608</td>\n",
              "      <td>Spain</td>\n",
              "      <td>Female</td>\n",
              "      <td>41</td>\n",
              "      <td>1</td>\n",
              "      <td>83807.86</td>\n",
              "      <td>1</td>\n",
              "      <td>0</td>\n",
              "      <td>1</td>\n",
              "      <td>112542.58</td>\n",
              "      <td>0</td>\n",
              "    </tr>\n",
              "    <tr>\n",
              "      <th>2</th>\n",
              "      <td>3</td>\n",
              "      <td>15619304</td>\n",
              "      <td>Onio</td>\n",
              "      <td>502</td>\n",
              "      <td>France</td>\n",
              "      <td>Female</td>\n",
              "      <td>42</td>\n",
              "      <td>8</td>\n",
              "      <td>159660.80</td>\n",
              "      <td>3</td>\n",
              "      <td>1</td>\n",
              "      <td>0</td>\n",
              "      <td>113931.57</td>\n",
              "      <td>1</td>\n",
              "    </tr>\n",
              "    <tr>\n",
              "      <th>3</th>\n",
              "      <td>4</td>\n",
              "      <td>15701354</td>\n",
              "      <td>Boni</td>\n",
              "      <td>699</td>\n",
              "      <td>France</td>\n",
              "      <td>Female</td>\n",
              "      <td>39</td>\n",
              "      <td>1</td>\n",
              "      <td>0.00</td>\n",
              "      <td>2</td>\n",
              "      <td>0</td>\n",
              "      <td>0</td>\n",
              "      <td>93826.63</td>\n",
              "      <td>0</td>\n",
              "    </tr>\n",
              "    <tr>\n",
              "      <th>4</th>\n",
              "      <td>5</td>\n",
              "      <td>15737888</td>\n",
              "      <td>Mitchell</td>\n",
              "      <td>850</td>\n",
              "      <td>Spain</td>\n",
              "      <td>Female</td>\n",
              "      <td>43</td>\n",
              "      <td>2</td>\n",
              "      <td>125510.82</td>\n",
              "      <td>1</td>\n",
              "      <td>1</td>\n",
              "      <td>1</td>\n",
              "      <td>79084.10</td>\n",
              "      <td>0</td>\n",
              "    </tr>\n",
              "  </tbody>\n",
              "</table>\n",
              "</div>"
            ],
            "text/plain": [
              "   RowNumber  CustomerId   Surname  ...  IsActiveMember EstimatedSalary Exited\n",
              "0          1    15634602  Hargrave  ...               1       101348.88      1\n",
              "1          2    15647311      Hill  ...               1       112542.58      0\n",
              "2          3    15619304      Onio  ...               0       113931.57      1\n",
              "3          4    15701354      Boni  ...               0        93826.63      0\n",
              "4          5    15737888  Mitchell  ...               1        79084.10      0\n",
              "\n",
              "[5 rows x 14 columns]"
            ]
          },
          "metadata": {},
          "execution_count": 3
        }
      ]
    },
    {
      "cell_type": "code",
      "metadata": {
        "execution": {
          "iopub.execute_input": "2020-11-03T12:22:14.661048Z",
          "iopub.status.busy": "2020-11-03T12:22:14.660242Z",
          "iopub.status.idle": "2020-11-03T12:22:14.664642Z",
          "shell.execute_reply": "2020-11-03T12:22:14.665178Z"
        },
        "papermill": {
          "duration": 0.048096,
          "end_time": "2020-11-03T12:22:14.665336",
          "exception": false,
          "start_time": "2020-11-03T12:22:14.617240",
          "status": "completed"
        },
        "tags": [],
        "id": "NTRZ32xZyAg7",
        "colab": {
          "base_uri": "https://localhost:8080/",
          "height": 203
        },
        "outputId": "36b0f748-64e4-4296-bb32-4b76fdb5921e"
      },
      "source": [
        "dataset.tail()"
      ],
      "execution_count": null,
      "outputs": [
        {
          "output_type": "execute_result",
          "data": {
            "text/html": [
              "<div>\n",
              "<style scoped>\n",
              "    .dataframe tbody tr th:only-of-type {\n",
              "        vertical-align: middle;\n",
              "    }\n",
              "\n",
              "    .dataframe tbody tr th {\n",
              "        vertical-align: top;\n",
              "    }\n",
              "\n",
              "    .dataframe thead th {\n",
              "        text-align: right;\n",
              "    }\n",
              "</style>\n",
              "<table border=\"1\" class=\"dataframe\">\n",
              "  <thead>\n",
              "    <tr style=\"text-align: right;\">\n",
              "      <th></th>\n",
              "      <th>RowNumber</th>\n",
              "      <th>CustomerId</th>\n",
              "      <th>Surname</th>\n",
              "      <th>CreditScore</th>\n",
              "      <th>Geography</th>\n",
              "      <th>Gender</th>\n",
              "      <th>Age</th>\n",
              "      <th>Tenure</th>\n",
              "      <th>Balance</th>\n",
              "      <th>NumOfProducts</th>\n",
              "      <th>HasCrCard</th>\n",
              "      <th>IsActiveMember</th>\n",
              "      <th>EstimatedSalary</th>\n",
              "      <th>Exited</th>\n",
              "    </tr>\n",
              "  </thead>\n",
              "  <tbody>\n",
              "    <tr>\n",
              "      <th>9995</th>\n",
              "      <td>9996</td>\n",
              "      <td>15606229</td>\n",
              "      <td>Obijiaku</td>\n",
              "      <td>771</td>\n",
              "      <td>France</td>\n",
              "      <td>Male</td>\n",
              "      <td>39</td>\n",
              "      <td>5</td>\n",
              "      <td>0.00</td>\n",
              "      <td>2</td>\n",
              "      <td>1</td>\n",
              "      <td>0</td>\n",
              "      <td>96270.64</td>\n",
              "      <td>0</td>\n",
              "    </tr>\n",
              "    <tr>\n",
              "      <th>9996</th>\n",
              "      <td>9997</td>\n",
              "      <td>15569892</td>\n",
              "      <td>Johnstone</td>\n",
              "      <td>516</td>\n",
              "      <td>France</td>\n",
              "      <td>Male</td>\n",
              "      <td>35</td>\n",
              "      <td>10</td>\n",
              "      <td>57369.61</td>\n",
              "      <td>1</td>\n",
              "      <td>1</td>\n",
              "      <td>1</td>\n",
              "      <td>101699.77</td>\n",
              "      <td>0</td>\n",
              "    </tr>\n",
              "    <tr>\n",
              "      <th>9997</th>\n",
              "      <td>9998</td>\n",
              "      <td>15584532</td>\n",
              "      <td>Liu</td>\n",
              "      <td>709</td>\n",
              "      <td>France</td>\n",
              "      <td>Female</td>\n",
              "      <td>36</td>\n",
              "      <td>7</td>\n",
              "      <td>0.00</td>\n",
              "      <td>1</td>\n",
              "      <td>0</td>\n",
              "      <td>1</td>\n",
              "      <td>42085.58</td>\n",
              "      <td>1</td>\n",
              "    </tr>\n",
              "    <tr>\n",
              "      <th>9998</th>\n",
              "      <td>9999</td>\n",
              "      <td>15682355</td>\n",
              "      <td>Sabbatini</td>\n",
              "      <td>772</td>\n",
              "      <td>Germany</td>\n",
              "      <td>Male</td>\n",
              "      <td>42</td>\n",
              "      <td>3</td>\n",
              "      <td>75075.31</td>\n",
              "      <td>2</td>\n",
              "      <td>1</td>\n",
              "      <td>0</td>\n",
              "      <td>92888.52</td>\n",
              "      <td>1</td>\n",
              "    </tr>\n",
              "    <tr>\n",
              "      <th>9999</th>\n",
              "      <td>10000</td>\n",
              "      <td>15628319</td>\n",
              "      <td>Walker</td>\n",
              "      <td>792</td>\n",
              "      <td>France</td>\n",
              "      <td>Female</td>\n",
              "      <td>28</td>\n",
              "      <td>4</td>\n",
              "      <td>130142.79</td>\n",
              "      <td>1</td>\n",
              "      <td>1</td>\n",
              "      <td>0</td>\n",
              "      <td>38190.78</td>\n",
              "      <td>0</td>\n",
              "    </tr>\n",
              "  </tbody>\n",
              "</table>\n",
              "</div>"
            ],
            "text/plain": [
              "      RowNumber  CustomerId    Surname  ...  IsActiveMember EstimatedSalary Exited\n",
              "9995       9996    15606229   Obijiaku  ...               0        96270.64      0\n",
              "9996       9997    15569892  Johnstone  ...               1       101699.77      0\n",
              "9997       9998    15584532        Liu  ...               1        42085.58      1\n",
              "9998       9999    15682355  Sabbatini  ...               0        92888.52      1\n",
              "9999      10000    15628319     Walker  ...               0        38190.78      0\n",
              "\n",
              "[5 rows x 14 columns]"
            ]
          },
          "metadata": {},
          "execution_count": 4
        }
      ]
    },
    {
      "cell_type": "code",
      "metadata": {
        "execution": {
          "iopub.execute_input": "2020-11-03T12:22:14.728123Z",
          "iopub.status.busy": "2020-11-03T12:22:14.727090Z",
          "iopub.status.idle": "2020-11-03T12:22:14.735230Z",
          "shell.execute_reply": "2020-11-03T12:22:14.734634Z"
        },
        "papermill": {
          "duration": 0.043526,
          "end_time": "2020-11-03T12:22:14.735352",
          "exception": false,
          "start_time": "2020-11-03T12:22:14.691826",
          "status": "completed"
        },
        "tags": [],
        "id": "lodjS5SbyAg8"
      },
      "source": [
        "X = dataset.iloc[:, 3:-1].values\n",
        "y = dataset.iloc[:, -1].values"
      ],
      "execution_count": null,
      "outputs": []
    },
    {
      "cell_type": "code",
      "metadata": {
        "execution": {
          "iopub.execute_input": "2020-11-03T12:22:14.794698Z",
          "iopub.status.busy": "2020-11-03T12:22:14.793738Z",
          "iopub.status.idle": "2020-11-03T12:22:14.797181Z",
          "shell.execute_reply": "2020-11-03T12:22:14.797797Z"
        },
        "papermill": {
          "duration": 0.035891,
          "end_time": "2020-11-03T12:22:14.797969",
          "exception": false,
          "start_time": "2020-11-03T12:22:14.762078",
          "status": "completed"
        },
        "tags": [],
        "id": "fbLyuoNFyAg8",
        "colab": {
          "base_uri": "https://localhost:8080/"
        },
        "outputId": "e9144dd3-3d48-4010-9c34-d929b845ddee"
      },
      "source": [
        "print(X)"
      ],
      "execution_count": null,
      "outputs": [
        {
          "output_type": "stream",
          "name": "stdout",
          "text": [
            "[[619 'France' 'Female' ... 1 1 101348.88]\n",
            " [608 'Spain' 'Female' ... 0 1 112542.58]\n",
            " [502 'France' 'Female' ... 1 0 113931.57]\n",
            " ...\n",
            " [709 'France' 'Female' ... 0 1 42085.58]\n",
            " [772 'Germany' 'Male' ... 1 0 92888.52]\n",
            " [792 'France' 'Female' ... 1 0 38190.78]]\n"
          ]
        }
      ]
    },
    {
      "cell_type": "code",
      "metadata": {
        "execution": {
          "iopub.execute_input": "2020-11-03T12:22:14.860627Z",
          "iopub.status.busy": "2020-11-03T12:22:14.859485Z",
          "iopub.status.idle": "2020-11-03T12:22:14.863474Z",
          "shell.execute_reply": "2020-11-03T12:22:14.864393Z"
        },
        "papermill": {
          "duration": 0.039074,
          "end_time": "2020-11-03T12:22:14.864610",
          "exception": false,
          "start_time": "2020-11-03T12:22:14.825536",
          "status": "completed"
        },
        "tags": [],
        "id": "WYjdMyXayAg9",
        "colab": {
          "base_uri": "https://localhost:8080/"
        },
        "outputId": "50415dd3-0752-4004-fe50-852a51464245"
      },
      "source": [
        "print(X[0])"
      ],
      "execution_count": null,
      "outputs": [
        {
          "output_type": "stream",
          "name": "stdout",
          "text": [
            "[619 'France' 'Female' 42 2 0.0 1 1 1 101348.88]\n"
          ]
        }
      ]
    },
    {
      "cell_type": "code",
      "metadata": {
        "execution": {
          "iopub.execute_input": "2020-11-03T12:22:14.940732Z",
          "iopub.status.busy": "2020-11-03T12:22:14.939832Z",
          "iopub.status.idle": "2020-11-03T12:22:14.943276Z",
          "shell.execute_reply": "2020-11-03T12:22:14.944060Z"
        },
        "papermill": {
          "duration": 0.043031,
          "end_time": "2020-11-03T12:22:14.944300",
          "exception": false,
          "start_time": "2020-11-03T12:22:14.901269",
          "status": "completed"
        },
        "tags": [],
        "id": "XxI1rKAwyAg-",
        "colab": {
          "base_uri": "https://localhost:8080/"
        },
        "outputId": "98254c66-ef6d-452c-c9d8-de29ab5a68e7"
      },
      "source": [
        "print(y)"
      ],
      "execution_count": null,
      "outputs": [
        {
          "output_type": "stream",
          "name": "stdout",
          "text": [
            "[1 0 1 ... 1 1 0]\n"
          ]
        }
      ]
    },
    {
      "cell_type": "code",
      "metadata": {
        "execution": {
          "iopub.execute_input": "2020-11-03T12:22:15.009488Z",
          "iopub.status.busy": "2020-11-03T12:22:15.008493Z",
          "iopub.status.idle": "2020-11-03T12:22:15.739630Z",
          "shell.execute_reply": "2020-11-03T12:22:15.738865Z"
        },
        "papermill": {
          "duration": 0.76664,
          "end_time": "2020-11-03T12:22:15.739753",
          "exception": false,
          "start_time": "2020-11-03T12:22:14.973113",
          "status": "completed"
        },
        "tags": [],
        "id": "wKSJjDOayAg-",
        "colab": {
          "base_uri": "https://localhost:8080/"
        },
        "outputId": "d0a78a09-c77a-4828-ddaf-a91fa60fbd1b"
      },
      "source": [
        "from sklearn.preprocessing import LabelEncoder\n",
        "le = LabelEncoder()\n",
        "X[:, 2] = le.fit_transform(X[:, 2])\n",
        "print(X)"
      ],
      "execution_count": null,
      "outputs": [
        {
          "output_type": "stream",
          "name": "stdout",
          "text": [
            "[[619 'France' 0 ... 1 1 101348.88]\n",
            " [608 'Spain' 0 ... 0 1 112542.58]\n",
            " [502 'France' 0 ... 1 0 113931.57]\n",
            " ...\n",
            " [709 'France' 0 ... 0 1 42085.58]\n",
            " [772 'Germany' 1 ... 1 0 92888.52]\n",
            " [792 'France' 0 ... 1 0 38190.78]]\n"
          ]
        }
      ]
    },
    {
      "cell_type": "code",
      "metadata": {
        "execution": {
          "iopub.execute_input": "2020-11-03T12:22:15.803601Z",
          "iopub.status.busy": "2020-11-03T12:22:15.802737Z",
          "iopub.status.idle": "2020-11-03T12:22:15.806063Z",
          "shell.execute_reply": "2020-11-03T12:22:15.806652Z"
        },
        "papermill": {
          "duration": 0.037889,
          "end_time": "2020-11-03T12:22:15.806805",
          "exception": false,
          "start_time": "2020-11-03T12:22:15.768916",
          "status": "completed"
        },
        "tags": [],
        "id": "2UNeBY_hyAg_",
        "colab": {
          "base_uri": "https://localhost:8080/"
        },
        "outputId": "c737a996-adf3-4b90-95e8-2715e65b0fc7"
      },
      "source": [
        "print(X[0])"
      ],
      "execution_count": null,
      "outputs": [
        {
          "output_type": "stream",
          "name": "stdout",
          "text": [
            "[619 'France' 0 42 2 0.0 1 1 1 101348.88]\n"
          ]
        }
      ]
    },
    {
      "cell_type": "code",
      "metadata": {
        "execution": {
          "iopub.execute_input": "2020-11-03T12:22:15.872660Z",
          "iopub.status.busy": "2020-11-03T12:22:15.871854Z",
          "iopub.status.idle": "2020-11-03T12:22:15.900950Z",
          "shell.execute_reply": "2020-11-03T12:22:15.900227Z"
        },
        "papermill": {
          "duration": 0.064762,
          "end_time": "2020-11-03T12:22:15.901076",
          "exception": false,
          "start_time": "2020-11-03T12:22:15.836314",
          "status": "completed"
        },
        "tags": [],
        "id": "8orPja7oyAg_",
        "colab": {
          "base_uri": "https://localhost:8080/"
        },
        "outputId": "a1bcaada-f72c-4926-a3f2-1b56920912dd"
      },
      "source": [
        "from sklearn.compose import ColumnTransformer\n",
        "from sklearn.preprocessing import OneHotEncoder\n",
        "ct = ColumnTransformer(transformers=[('encoder', OneHotEncoder(), [1])], remainder='passthrough')\n",
        "X = np.array(ct.fit_transform(X))\n",
        "print(X)"
      ],
      "execution_count": null,
      "outputs": [
        {
          "output_type": "stream",
          "name": "stdout",
          "text": [
            "[[1.0 0.0 0.0 ... 1 1 101348.88]\n",
            " [0.0 0.0 1.0 ... 0 1 112542.58]\n",
            " [1.0 0.0 0.0 ... 1 0 113931.57]\n",
            " ...\n",
            " [1.0 0.0 0.0 ... 0 1 42085.58]\n",
            " [0.0 1.0 0.0 ... 1 0 92888.52]\n",
            " [1.0 0.0 0.0 ... 1 0 38190.78]]\n"
          ]
        }
      ]
    },
    {
      "cell_type": "code",
      "metadata": {
        "execution": {
          "iopub.execute_input": "2020-11-03T12:22:15.967096Z",
          "iopub.status.busy": "2020-11-03T12:22:15.966385Z",
          "iopub.status.idle": "2020-11-03T12:22:16.015533Z",
          "shell.execute_reply": "2020-11-03T12:22:16.014725Z"
        },
        "papermill": {
          "duration": 0.084426,
          "end_time": "2020-11-03T12:22:16.015657",
          "exception": false,
          "start_time": "2020-11-03T12:22:15.931231",
          "status": "completed"
        },
        "tags": [],
        "id": "4yaMYDNnyAhA"
      },
      "source": [
        "from sklearn.model_selection import train_test_split\n",
        "X_train, X_test, y_train, y_test = train_test_split(X, y, test_size = 0.2, random_state = 0)"
      ],
      "execution_count": null,
      "outputs": []
    },
    {
      "cell_type": "code",
      "metadata": {
        "execution": {
          "iopub.execute_input": "2020-11-03T12:22:16.091932Z",
          "iopub.status.busy": "2020-11-03T12:22:16.090686Z",
          "iopub.status.idle": "2020-11-03T12:22:16.108932Z",
          "shell.execute_reply": "2020-11-03T12:22:16.108200Z"
        },
        "papermill": {
          "duration": 0.062947,
          "end_time": "2020-11-03T12:22:16.109068",
          "exception": false,
          "start_time": "2020-11-03T12:22:16.046121",
          "status": "completed"
        },
        "tags": [],
        "id": "JGqWoDyhyAhA"
      },
      "source": [
        "from sklearn.preprocessing import StandardScaler\n",
        "sc = StandardScaler()\n",
        "X_train = sc.fit_transform(X_train)\n",
        "X_test = sc.transform(X_test)"
      ],
      "execution_count": null,
      "outputs": []
    },
    {
      "cell_type": "code",
      "metadata": {
        "execution": {
          "iopub.execute_input": "2020-11-03T12:22:16.177112Z",
          "iopub.status.busy": "2020-11-03T12:22:16.175950Z",
          "iopub.status.idle": "2020-11-03T12:22:16.240422Z",
          "shell.execute_reply": "2020-11-03T12:22:16.239627Z"
        },
        "papermill": {
          "duration": 0.100337,
          "end_time": "2020-11-03T12:22:16.240546",
          "exception": false,
          "start_time": "2020-11-03T12:22:16.140209",
          "status": "completed"
        },
        "tags": [],
        "id": "w5LfiQbQyAhA"
      },
      "source": [
        "ann = tf.keras.models.Sequential()"
      ],
      "execution_count": null,
      "outputs": []
    },
    {
      "cell_type": "code",
      "metadata": {
        "execution": {
          "iopub.execute_input": "2020-11-03T12:22:16.312188Z",
          "iopub.status.busy": "2020-11-03T12:22:16.311066Z",
          "iopub.status.idle": "2020-11-03T12:22:16.313865Z",
          "shell.execute_reply": "2020-11-03T12:22:16.314550Z"
        },
        "papermill": {
          "duration": 0.042863,
          "end_time": "2020-11-03T12:22:16.314698",
          "exception": false,
          "start_time": "2020-11-03T12:22:16.271835",
          "status": "completed"
        },
        "tags": [],
        "id": "zQ6A3JDUyAhA"
      },
      "source": [
        "ann.add(tf.keras.layers.Dense(units=6, activation='relu'))"
      ],
      "execution_count": null,
      "outputs": []
    },
    {
      "cell_type": "code",
      "metadata": {
        "execution": {
          "iopub.execute_input": "2020-11-03T12:22:16.384171Z",
          "iopub.status.busy": "2020-11-03T12:22:16.383361Z",
          "iopub.status.idle": "2020-11-03T12:22:16.386111Z",
          "shell.execute_reply": "2020-11-03T12:22:16.386689Z"
        },
        "papermill": {
          "duration": 0.040906,
          "end_time": "2020-11-03T12:22:16.386830",
          "exception": false,
          "start_time": "2020-11-03T12:22:16.345924",
          "status": "completed"
        },
        "tags": [],
        "id": "OAKIzEU2yAhB"
      },
      "source": [
        "ann.add(tf.keras.layers.Dense(units=6, activation='relu'))"
      ],
      "execution_count": null,
      "outputs": []
    },
    {
      "cell_type": "code",
      "metadata": {
        "execution": {
          "iopub.execute_input": "2020-11-03T12:22:16.455895Z",
          "iopub.status.busy": "2020-11-03T12:22:16.455170Z",
          "iopub.status.idle": "2020-11-03T12:22:16.458390Z",
          "shell.execute_reply": "2020-11-03T12:22:16.457774Z"
        },
        "papermill": {
          "duration": 0.040714,
          "end_time": "2020-11-03T12:22:16.458504",
          "exception": false,
          "start_time": "2020-11-03T12:22:16.417790",
          "status": "completed"
        },
        "tags": [],
        "id": "_2pM2UEKyAhB"
      },
      "source": [
        "ann.add(tf.keras.layers.Dense(units=1, activation='sigmoid'))"
      ],
      "execution_count": null,
      "outputs": []
    },
    {
      "cell_type": "code",
      "metadata": {
        "execution": {
          "iopub.execute_input": "2020-11-03T12:22:16.535117Z",
          "iopub.status.busy": "2020-11-03T12:22:16.534346Z",
          "iopub.status.idle": "2020-11-03T12:22:16.543647Z",
          "shell.execute_reply": "2020-11-03T12:22:16.542996Z"
        },
        "papermill": {
          "duration": 0.054056,
          "end_time": "2020-11-03T12:22:16.543770",
          "exception": false,
          "start_time": "2020-11-03T12:22:16.489714",
          "status": "completed"
        },
        "tags": [],
        "id": "clODRn9OyAhB"
      },
      "source": [
        "ann.compile(optimizer = 'adam', loss = 'binary_crossentropy', metrics = ['accuracy'])"
      ],
      "execution_count": null,
      "outputs": []
    },
    {
      "cell_type": "code",
      "metadata": {
        "execution": {
          "iopub.execute_input": "2020-11-03T12:22:16.613032Z",
          "iopub.status.busy": "2020-11-03T12:22:16.612248Z",
          "iopub.status.idle": "2020-11-03T12:22:41.482674Z",
          "shell.execute_reply": "2020-11-03T12:22:41.482016Z"
        },
        "papermill": {
          "duration": 24.907549,
          "end_time": "2020-11-03T12:22:41.482794",
          "exception": false,
          "start_time": "2020-11-03T12:22:16.575245",
          "status": "completed"
        },
        "tags": [],
        "id": "27HbHTmeyAhC",
        "colab": {
          "base_uri": "https://localhost:8080/"
        },
        "outputId": "da98c770-b454-4f4a-9ca9-67032be5aa26"
      },
      "source": [
        "ann.fit(X_train, y_train, batch_size = 32, epochs = 100)"
      ],
      "execution_count": null,
      "outputs": [
        {
          "output_type": "stream",
          "name": "stdout",
          "text": [
            "Epoch 1/100\n",
            "250/250 [==============================] - 1s 1ms/step - loss: 0.5253 - accuracy: 0.7699\n",
            "Epoch 2/100\n",
            "250/250 [==============================] - 0s 1ms/step - loss: 0.4585 - accuracy: 0.7960\n",
            "Epoch 3/100\n",
            "250/250 [==============================] - 0s 1ms/step - loss: 0.4411 - accuracy: 0.7960\n",
            "Epoch 4/100\n",
            "250/250 [==============================] - 0s 1ms/step - loss: 0.4277 - accuracy: 0.7994\n",
            "Epoch 5/100\n",
            "250/250 [==============================] - 0s 1ms/step - loss: 0.4131 - accuracy: 0.8090\n",
            "Epoch 6/100\n",
            "250/250 [==============================] - 0s 1ms/step - loss: 0.3986 - accuracy: 0.8198\n",
            "Epoch 7/100\n",
            "250/250 [==============================] - 0s 1ms/step - loss: 0.3854 - accuracy: 0.8307\n",
            "Epoch 8/100\n",
            "250/250 [==============================] - 0s 1ms/step - loss: 0.3746 - accuracy: 0.8389\n",
            "Epoch 9/100\n",
            "250/250 [==============================] - 0s 1ms/step - loss: 0.3666 - accuracy: 0.8479\n",
            "Epoch 10/100\n",
            "250/250 [==============================] - 0s 1ms/step - loss: 0.3605 - accuracy: 0.8493\n",
            "Epoch 11/100\n",
            "250/250 [==============================] - 0s 1ms/step - loss: 0.3565 - accuracy: 0.8515\n",
            "Epoch 12/100\n",
            "250/250 [==============================] - 0s 1ms/step - loss: 0.3539 - accuracy: 0.8524\n",
            "Epoch 13/100\n",
            "250/250 [==============================] - 0s 1ms/step - loss: 0.3513 - accuracy: 0.8544\n",
            "Epoch 14/100\n",
            "250/250 [==============================] - 0s 1ms/step - loss: 0.3503 - accuracy: 0.8550\n",
            "Epoch 15/100\n",
            "250/250 [==============================] - 0s 1ms/step - loss: 0.3489 - accuracy: 0.8575\n",
            "Epoch 16/100\n",
            "250/250 [==============================] - 0s 1ms/step - loss: 0.3478 - accuracy: 0.8571\n",
            "Epoch 17/100\n",
            "250/250 [==============================] - 0s 1ms/step - loss: 0.3467 - accuracy: 0.8565\n",
            "Epoch 18/100\n",
            "250/250 [==============================] - 0s 1ms/step - loss: 0.3459 - accuracy: 0.8574\n",
            "Epoch 19/100\n",
            "250/250 [==============================] - 0s 1ms/step - loss: 0.3451 - accuracy: 0.8586\n",
            "Epoch 20/100\n",
            "250/250 [==============================] - 0s 1ms/step - loss: 0.3443 - accuracy: 0.8594\n",
            "Epoch 21/100\n",
            "250/250 [==============================] - 0s 1ms/step - loss: 0.3438 - accuracy: 0.8581\n",
            "Epoch 22/100\n",
            "250/250 [==============================] - 0s 1ms/step - loss: 0.3430 - accuracy: 0.8587\n",
            "Epoch 23/100\n",
            "250/250 [==============================] - 0s 1ms/step - loss: 0.3427 - accuracy: 0.8581\n",
            "Epoch 24/100\n",
            "250/250 [==============================] - 0s 1ms/step - loss: 0.3419 - accuracy: 0.8596\n",
            "Epoch 25/100\n",
            "250/250 [==============================] - 0s 1ms/step - loss: 0.3413 - accuracy: 0.8605\n",
            "Epoch 26/100\n",
            "250/250 [==============================] - 0s 1ms/step - loss: 0.3407 - accuracy: 0.8586\n",
            "Epoch 27/100\n",
            "250/250 [==============================] - 0s 1ms/step - loss: 0.3405 - accuracy: 0.8601\n",
            "Epoch 28/100\n",
            "250/250 [==============================] - 0s 1ms/step - loss: 0.3403 - accuracy: 0.8604\n",
            "Epoch 29/100\n",
            "250/250 [==============================] - 0s 1ms/step - loss: 0.3397 - accuracy: 0.8604\n",
            "Epoch 30/100\n",
            "250/250 [==============================] - 0s 1ms/step - loss: 0.3393 - accuracy: 0.8602\n",
            "Epoch 31/100\n",
            "250/250 [==============================] - 0s 1ms/step - loss: 0.3389 - accuracy: 0.8597\n",
            "Epoch 32/100\n",
            "250/250 [==============================] - 0s 1ms/step - loss: 0.3388 - accuracy: 0.8594\n",
            "Epoch 33/100\n",
            "250/250 [==============================] - 0s 1ms/step - loss: 0.3386 - accuracy: 0.8606\n",
            "Epoch 34/100\n",
            "250/250 [==============================] - 0s 1ms/step - loss: 0.3379 - accuracy: 0.8601\n",
            "Epoch 35/100\n",
            "250/250 [==============================] - 0s 1ms/step - loss: 0.3380 - accuracy: 0.8606\n",
            "Epoch 36/100\n",
            "250/250 [==============================] - 0s 1ms/step - loss: 0.3379 - accuracy: 0.8604\n",
            "Epoch 37/100\n",
            "250/250 [==============================] - 0s 1ms/step - loss: 0.3375 - accuracy: 0.8605\n",
            "Epoch 38/100\n",
            "250/250 [==============================] - 0s 1ms/step - loss: 0.3370 - accuracy: 0.8611\n",
            "Epoch 39/100\n",
            "250/250 [==============================] - 0s 1ms/step - loss: 0.3369 - accuracy: 0.8601\n",
            "Epoch 40/100\n",
            "250/250 [==============================] - 0s 1ms/step - loss: 0.3370 - accuracy: 0.8616\n",
            "Epoch 41/100\n",
            "250/250 [==============================] - 0s 1ms/step - loss: 0.3367 - accuracy: 0.8618\n",
            "Epoch 42/100\n",
            "250/250 [==============================] - 0s 1ms/step - loss: 0.3361 - accuracy: 0.8624\n",
            "Epoch 43/100\n",
            "250/250 [==============================] - 0s 1ms/step - loss: 0.3364 - accuracy: 0.8608\n",
            "Epoch 44/100\n",
            "250/250 [==============================] - 0s 1ms/step - loss: 0.3360 - accuracy: 0.8604\n",
            "Epoch 45/100\n",
            "250/250 [==============================] - 0s 1ms/step - loss: 0.3355 - accuracy: 0.8619\n",
            "Epoch 46/100\n",
            "250/250 [==============================] - 0s 1ms/step - loss: 0.3357 - accuracy: 0.8601\n",
            "Epoch 47/100\n",
            "250/250 [==============================] - 0s 1ms/step - loss: 0.3350 - accuracy: 0.8621\n",
            "Epoch 48/100\n",
            "250/250 [==============================] - 0s 1ms/step - loss: 0.3350 - accuracy: 0.8614\n",
            "Epoch 49/100\n",
            "250/250 [==============================] - 0s 1ms/step - loss: 0.3350 - accuracy: 0.8614\n",
            "Epoch 50/100\n",
            "250/250 [==============================] - 0s 1ms/step - loss: 0.3350 - accuracy: 0.8619\n",
            "Epoch 51/100\n",
            "250/250 [==============================] - 0s 1ms/step - loss: 0.3343 - accuracy: 0.8622\n",
            "Epoch 52/100\n",
            "250/250 [==============================] - 0s 1ms/step - loss: 0.3342 - accuracy: 0.8614\n",
            "Epoch 53/100\n",
            "250/250 [==============================] - 0s 1ms/step - loss: 0.3341 - accuracy: 0.8614\n",
            "Epoch 54/100\n",
            "250/250 [==============================] - 0s 1ms/step - loss: 0.3336 - accuracy: 0.8620\n",
            "Epoch 55/100\n",
            "250/250 [==============================] - 0s 1ms/step - loss: 0.3337 - accuracy: 0.8630\n",
            "Epoch 56/100\n",
            "250/250 [==============================] - 0s 1ms/step - loss: 0.3336 - accuracy: 0.8626\n",
            "Epoch 57/100\n",
            "250/250 [==============================] - 0s 1ms/step - loss: 0.3331 - accuracy: 0.8626\n",
            "Epoch 58/100\n",
            "250/250 [==============================] - 0s 1ms/step - loss: 0.3329 - accuracy: 0.8636\n",
            "Epoch 59/100\n",
            "250/250 [==============================] - 0s 1ms/step - loss: 0.3328 - accuracy: 0.8626\n",
            "Epoch 60/100\n",
            "250/250 [==============================] - 0s 1ms/step - loss: 0.3330 - accuracy: 0.8626\n",
            "Epoch 61/100\n",
            "250/250 [==============================] - 0s 1ms/step - loss: 0.3327 - accuracy: 0.8621\n",
            "Epoch 62/100\n",
            "250/250 [==============================] - 0s 1ms/step - loss: 0.3324 - accuracy: 0.8614\n",
            "Epoch 63/100\n",
            "250/250 [==============================] - 0s 1ms/step - loss: 0.3321 - accuracy: 0.8637\n",
            "Epoch 64/100\n",
            "250/250 [==============================] - 0s 1ms/step - loss: 0.3327 - accuracy: 0.8622\n",
            "Epoch 65/100\n",
            "250/250 [==============================] - 0s 1ms/step - loss: 0.3319 - accuracy: 0.8624\n",
            "Epoch 66/100\n",
            "250/250 [==============================] - 0s 1ms/step - loss: 0.3320 - accuracy: 0.8633\n",
            "Epoch 67/100\n",
            "250/250 [==============================] - 0s 1ms/step - loss: 0.3319 - accuracy: 0.8626\n",
            "Epoch 68/100\n",
            "250/250 [==============================] - 0s 1ms/step - loss: 0.3315 - accuracy: 0.8641\n",
            "Epoch 69/100\n",
            "250/250 [==============================] - 0s 1ms/step - loss: 0.3317 - accuracy: 0.8621\n",
            "Epoch 70/100\n",
            "250/250 [==============================] - 0s 1ms/step - loss: 0.3312 - accuracy: 0.8626\n",
            "Epoch 71/100\n",
            "250/250 [==============================] - 0s 1ms/step - loss: 0.3313 - accuracy: 0.8631\n",
            "Epoch 72/100\n",
            "250/250 [==============================] - 0s 1ms/step - loss: 0.3313 - accuracy: 0.8643\n",
            "Epoch 73/100\n",
            "250/250 [==============================] - 0s 1ms/step - loss: 0.3309 - accuracy: 0.8626\n",
            "Epoch 74/100\n",
            "250/250 [==============================] - 0s 1ms/step - loss: 0.3309 - accuracy: 0.8636\n",
            "Epoch 75/100\n",
            "250/250 [==============================] - 0s 1ms/step - loss: 0.3310 - accuracy: 0.8626\n",
            "Epoch 76/100\n",
            "250/250 [==============================] - 0s 1ms/step - loss: 0.3306 - accuracy: 0.8634\n",
            "Epoch 77/100\n",
            "250/250 [==============================] - 0s 1ms/step - loss: 0.3307 - accuracy: 0.8630\n",
            "Epoch 78/100\n",
            "250/250 [==============================] - 0s 1ms/step - loss: 0.3310 - accuracy: 0.8627\n",
            "Epoch 79/100\n",
            "250/250 [==============================] - 0s 1ms/step - loss: 0.3308 - accuracy: 0.8640\n",
            "Epoch 80/100\n",
            "250/250 [==============================] - 0s 1ms/step - loss: 0.3302 - accuracy: 0.8640\n",
            "Epoch 81/100\n",
            "250/250 [==============================] - 0s 1ms/step - loss: 0.3302 - accuracy: 0.8631\n",
            "Epoch 82/100\n",
            "250/250 [==============================] - 0s 1ms/step - loss: 0.3304 - accuracy: 0.8640\n",
            "Epoch 83/100\n",
            "250/250 [==============================] - 0s 1ms/step - loss: 0.3302 - accuracy: 0.8634\n",
            "Epoch 84/100\n",
            "250/250 [==============================] - 0s 1ms/step - loss: 0.3304 - accuracy: 0.8639\n",
            "Epoch 85/100\n",
            "250/250 [==============================] - 0s 1ms/step - loss: 0.3299 - accuracy: 0.8643\n",
            "Epoch 86/100\n",
            "250/250 [==============================] - 0s 1ms/step - loss: 0.3297 - accuracy: 0.8641\n",
            "Epoch 87/100\n",
            "250/250 [==============================] - 0s 1ms/step - loss: 0.3297 - accuracy: 0.8625\n",
            "Epoch 88/100\n",
            "250/250 [==============================] - 0s 1ms/step - loss: 0.3298 - accuracy: 0.8640\n",
            "Epoch 89/100\n",
            "250/250 [==============================] - 0s 1ms/step - loss: 0.3295 - accuracy: 0.8649\n",
            "Epoch 90/100\n",
            "250/250 [==============================] - 0s 1ms/step - loss: 0.3299 - accuracy: 0.8652\n",
            "Epoch 91/100\n",
            "250/250 [==============================] - 0s 1ms/step - loss: 0.3295 - accuracy: 0.8629\n",
            "Epoch 92/100\n",
            "250/250 [==============================] - 0s 1ms/step - loss: 0.3298 - accuracy: 0.8643\n",
            "Epoch 93/100\n",
            "250/250 [==============================] - 0s 1ms/step - loss: 0.3298 - accuracy: 0.8658\n",
            "Epoch 94/100\n",
            "250/250 [==============================] - 0s 1ms/step - loss: 0.3298 - accuracy: 0.8644\n",
            "Epoch 95/100\n",
            "250/250 [==============================] - 0s 1ms/step - loss: 0.3294 - accuracy: 0.8637\n",
            "Epoch 96/100\n",
            "250/250 [==============================] - 0s 1ms/step - loss: 0.3298 - accuracy: 0.8637\n",
            "Epoch 97/100\n",
            "250/250 [==============================] - 0s 1ms/step - loss: 0.3295 - accuracy: 0.8639\n",
            "Epoch 98/100\n",
            "250/250 [==============================] - 0s 1ms/step - loss: 0.3291 - accuracy: 0.8649\n",
            "Epoch 99/100\n",
            "250/250 [==============================] - 0s 1ms/step - loss: 0.3295 - accuracy: 0.8644\n",
            "Epoch 100/100\n",
            "250/250 [==============================] - 0s 1ms/step - loss: 0.3293 - accuracy: 0.8656\n"
          ]
        },
        {
          "output_type": "execute_result",
          "data": {
            "text/plain": [
              "<keras.callbacks.History at 0x7ff33fc2bc10>"
            ]
          },
          "metadata": {},
          "execution_count": 19
        }
      ]
    },
    {
      "cell_type": "markdown",
      "metadata": {
        "papermill": {
          "duration": 0.270979,
          "end_time": "2020-11-03T12:22:42.024403",
          "exception": false,
          "start_time": "2020-11-03T12:22:41.753424",
          "status": "completed"
        },
        "tags": [],
        "id": "zEYo5WuQyAhC"
      },
      "source": [
        "PREDICTION"
      ]
    },
    {
      "cell_type": "markdown",
      "metadata": {
        "papermill": {
          "duration": 0.271829,
          "end_time": "2020-11-03T12:22:42.568046",
          "exception": false,
          "start_time": "2020-11-03T12:22:42.296217",
          "status": "completed"
        },
        "tags": [],
        "id": "-miBy48_yAhC"
      },
      "source": [
        "Geography: France"
      ]
    },
    {
      "cell_type": "markdown",
      "metadata": {
        "papermill": {
          "duration": 0.272056,
          "end_time": "2020-11-03T12:22:43.113786",
          "exception": false,
          "start_time": "2020-11-03T12:22:42.841730",
          "status": "completed"
        },
        "tags": [],
        "id": "ZhrwdS0eyAhD"
      },
      "source": [
        "Credit Score: 600"
      ]
    },
    {
      "cell_type": "markdown",
      "metadata": {
        "papermill": {
          "duration": 0.269744,
          "end_time": "2020-11-03T12:22:43.655622",
          "exception": false,
          "start_time": "2020-11-03T12:22:43.385878",
          "status": "completed"
        },
        "tags": [],
        "id": "7t8SLOtoyAhD"
      },
      "source": [
        "Gender: Male"
      ]
    },
    {
      "cell_type": "markdown",
      "metadata": {
        "papermill": {
          "duration": 0.272367,
          "end_time": "2020-11-03T12:22:44.198283",
          "exception": false,
          "start_time": "2020-11-03T12:22:43.925916",
          "status": "completed"
        },
        "tags": [],
        "id": "UZVPxjGdyAhD"
      },
      "source": [
        "Age: 40 years old"
      ]
    },
    {
      "cell_type": "markdown",
      "metadata": {
        "papermill": {
          "duration": 0.270193,
          "end_time": "2020-11-03T12:22:44.740533",
          "exception": false,
          "start_time": "2020-11-03T12:22:44.470340",
          "status": "completed"
        },
        "tags": [],
        "id": "oZLEbVuJyAhD"
      },
      "source": [
        "Tenure: 3 years"
      ]
    },
    {
      "cell_type": "markdown",
      "metadata": {
        "papermill": {
          "duration": 0.271421,
          "end_time": "2020-11-03T12:22:45.284109",
          "exception": false,
          "start_time": "2020-11-03T12:22:45.012688",
          "status": "completed"
        },
        "tags": [],
        "id": "JgYzElN_yAhE"
      },
      "source": [
        "Balance: $ 60000"
      ]
    },
    {
      "cell_type": "markdown",
      "metadata": {
        "papermill": {
          "duration": 0.271633,
          "end_time": "2020-11-03T12:22:45.862897",
          "exception": false,
          "start_time": "2020-11-03T12:22:45.591264",
          "status": "completed"
        },
        "tags": [],
        "id": "fTIyKT_NyAhE"
      },
      "source": [
        "Number of Products: 2"
      ]
    },
    {
      "cell_type": "markdown",
      "metadata": {
        "papermill": {
          "duration": 0.275083,
          "end_time": "2020-11-03T12:22:46.408304",
          "exception": false,
          "start_time": "2020-11-03T12:22:46.133221",
          "status": "completed"
        },
        "tags": [],
        "id": "WLl7UjupyAhE"
      },
      "source": [
        "Does this customer have a credit card? Yes"
      ]
    },
    {
      "cell_type": "markdown",
      "metadata": {
        "papermill": {
          "duration": 0.273611,
          "end_time": "2020-11-03T12:22:46.956513",
          "exception": false,
          "start_time": "2020-11-03T12:22:46.682902",
          "status": "completed"
        },
        "tags": [],
        "id": "Xl3WjH-5yAhE"
      },
      "source": [
        "Is this customer an Active Member: Yes"
      ]
    },
    {
      "cell_type": "markdown",
      "metadata": {
        "papermill": {
          "duration": 0.313121,
          "end_time": "2020-11-03T12:22:47.544657",
          "exception": false,
          "start_time": "2020-11-03T12:22:47.231536",
          "status": "completed"
        },
        "tags": [],
        "id": "DObOw6kSyAhF"
      },
      "source": [
        "Estimated Salary: $ 50000"
      ]
    },
    {
      "cell_type": "markdown",
      "metadata": {
        "papermill": {
          "duration": 0.272158,
          "end_time": "2020-11-03T12:22:48.086659",
          "exception": false,
          "start_time": "2020-11-03T12:22:47.814501",
          "status": "completed"
        },
        "tags": [],
        "id": "BQis3CAZyAhF"
      },
      "source": [
        "So, should we say goodbye to that customer?"
      ]
    },
    {
      "cell_type": "code",
      "metadata": {
        "execution": {
          "iopub.execute_input": "2020-11-03T12:22:48.639174Z",
          "iopub.status.busy": "2020-11-03T12:22:48.638374Z",
          "iopub.status.idle": "2020-11-03T12:22:48.764922Z",
          "shell.execute_reply": "2020-11-03T12:22:48.764106Z"
        },
        "papermill": {
          "duration": 0.404895,
          "end_time": "2020-11-03T12:22:48.765059",
          "exception": false,
          "start_time": "2020-11-03T12:22:48.360164",
          "status": "completed"
        },
        "tags": [],
        "id": "3754cW4tyAhF",
        "colab": {
          "base_uri": "https://localhost:8080/"
        },
        "outputId": "257a969e-1bf6-4b01-8cec-b253c058dd66"
      },
      "source": [
        "print(ann.predict(sc.transform([[1, 0, 0, 300, 1, 55, 3, 100000, 2, 1, 1, 5000]]))>0.5)"
      ],
      "execution_count": null,
      "outputs": [
        {
          "output_type": "stream",
          "name": "stdout",
          "text": [
            "[[False]]\n"
          ]
        }
      ]
    },
    {
      "cell_type": "code",
      "metadata": {
        "execution": {
          "iopub.execute_input": "2020-11-03T12:22:49.317734Z",
          "iopub.status.busy": "2020-11-03T12:22:49.316656Z",
          "iopub.status.idle": "2020-11-03T12:22:49.357113Z",
          "shell.execute_reply": "2020-11-03T12:22:49.356381Z"
        },
        "papermill": {
          "duration": 0.319207,
          "end_time": "2020-11-03T12:22:49.357260",
          "exception": false,
          "start_time": "2020-11-03T12:22:49.038053",
          "status": "completed"
        },
        "tags": [],
        "id": "ATKgwS4NyAhF",
        "colab": {
          "base_uri": "https://localhost:8080/"
        },
        "outputId": "da70d549-f6e6-4101-9099-e29ef03822c3"
      },
      "source": [
        "print(ann.predict(sc.transform([[1, 0, 0, 300, 1, 55, 3, 100000, 2, 1, 1, 5000]])))"
      ],
      "execution_count": null,
      "outputs": [
        {
          "output_type": "stream",
          "name": "stdout",
          "text": [
            "[[0.18846563]]\n"
          ]
        }
      ]
    },
    {
      "cell_type": "code",
      "metadata": {
        "execution": {
          "iopub.execute_input": "2020-11-03T12:22:49.907171Z",
          "iopub.status.busy": "2020-11-03T12:22:49.906115Z",
          "iopub.status.idle": "2020-11-03T12:22:49.983442Z",
          "shell.execute_reply": "2020-11-03T12:22:49.982675Z"
        },
        "papermill": {
          "duration": 0.355599,
          "end_time": "2020-11-03T12:22:49.983574",
          "exception": false,
          "start_time": "2020-11-03T12:22:49.627975",
          "status": "completed"
        },
        "tags": [],
        "id": "I4S3C3chyAhG",
        "colab": {
          "base_uri": "https://localhost:8080/"
        },
        "outputId": "f54a5d2c-03f6-4c1f-ceb4-b35bad059ea0"
      },
      "source": [
        "y_pred = ann.predict(X_test)\n",
        "y_pred = (y_pred > 0.5)\n",
        "print(np.concatenate((y_pred.reshape(len(y_pred),1), y_test.reshape(len(y_test),1)),1))"
      ],
      "execution_count": null,
      "outputs": [
        {
          "output_type": "stream",
          "name": "stdout",
          "text": [
            "[[0 0]\n",
            " [0 1]\n",
            " [0 0]\n",
            " ...\n",
            " [0 0]\n",
            " [0 0]\n",
            " [0 0]]\n"
          ]
        }
      ]
    },
    {
      "cell_type": "code",
      "metadata": {
        "execution": {
          "iopub.execute_input": "2020-11-03T12:22:50.542222Z",
          "iopub.status.busy": "2020-11-03T12:22:50.541196Z",
          "iopub.status.idle": "2020-11-03T12:22:50.561225Z",
          "shell.execute_reply": "2020-11-03T12:22:50.560503Z"
        },
        "papermill": {
          "duration": 0.30288,
          "end_time": "2020-11-03T12:22:50.561345",
          "exception": false,
          "start_time": "2020-11-03T12:22:50.258465",
          "status": "completed"
        },
        "tags": [],
        "id": "cDeLK7V_yAhG",
        "colab": {
          "base_uri": "https://localhost:8080/"
        },
        "outputId": "9125f158-a318-4ff3-e8f6-6484c7b9a236"
      },
      "source": [
        "from sklearn.metrics import confusion_matrix, accuracy_score\n",
        "cm = confusion_matrix(y_test, y_pred)\n",
        "print(cm)\n",
        "accuracy_score(y_test, y_pred)"
      ],
      "execution_count": null,
      "outputs": [
        {
          "output_type": "stream",
          "name": "stdout",
          "text": [
            "[[1522   73]\n",
            " [ 198  207]]\n"
          ]
        },
        {
          "output_type": "execute_result",
          "data": {
            "text/plain": [
              "0.8645"
            ]
          },
          "metadata": {},
          "execution_count": 23
        }
      ]
    }
  ]
}